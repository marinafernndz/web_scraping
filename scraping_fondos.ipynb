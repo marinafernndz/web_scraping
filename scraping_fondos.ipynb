{
 "cells": [
  {
   "cell_type": "markdown",
   "metadata": {},
   "source": [
    "# Ejercicio 3"
   ]
  },
  {
   "cell_type": "markdown",
   "metadata": {},
   "source": [
    "# Parte 1: Web Scraping"
   ]
  },
  {
   "cell_type": "markdown",
   "metadata": {},
   "source": [
    "Programar un código en Python que devuelva el valor total de todos los fondos,\n",
    "calculado como la suma del valor individual multiplicado por el número de\n",
    "participaciones (en euros):\n",
    "\n",
    "𝑣𝑎𝑙𝑜𝑟 𝑡𝑜𝑡𝑎𝑙 = ∑𝑓𝑜𝑛𝑑𝑜𝑖 × 𝑝𝑎𝑟𝑡𝑖𝑐𝑖𝑝𝑎𝑐𝑖𝑜𝑛𝑒𝑠𝑖\n",
    "\n",
    "Para ello, primero debes encontrar webs que contengan el valor actualizado de cada\n",
    "fondo, y realizar scraping con cada una de ellas. "
   ]
  },
  {
   "cell_type": "code",
   "execution_count": null,
   "metadata": {},
   "outputs": [],
   "source": [
    "import urllib.request\n",
    "import re\n",
    "from bs4 import BeautifulSoup"
   ]
  },
  {
   "cell_type": "markdown",
   "metadata": {},
   "source": [
    "# Cambio Dollar a Euro"
   ]
  },
  {
   "cell_type": "code",
   "execution_count": 74,
   "metadata": {},
   "outputs": [
    {
     "data": {
      "text/plain": [
       "1.2186"
      ]
     },
     "execution_count": 74,
     "metadata": {},
     "output_type": "execute_result"
    }
   ],
   "source": [
    "url = \"https://www.infobolsa.es/divisas\"\n",
    "html = urllib.request.urlopen(url)\n",
    "soup = BeautifulSoup(html)\n",
    "tag = soup.find_all(\"li\",class_=\"txtCurren_ult flop\")\n",
    "tag = tag[0].contents[0]\n",
    "cambio = float(re.findall(\"\\d+\\,\\d+\", tag)[0].replace(\",\",\".\"))\n",
    "cambio"
   ]
  },
  {
   "cell_type": "markdown",
   "metadata": {},
   "source": [
    "# BGF Euro Short Duration Bond A2 EUR"
   ]
  },
  {
   "cell_type": "code",
   "execution_count": 61,
   "metadata": {},
   "outputs": [
    {
     "data": {
      "text/plain": [
       "356.50600000000003"
      ]
     },
     "execution_count": 61,
     "metadata": {},
     "output_type": "execute_result"
    }
   ],
   "source": [
    "url = \"https://www.blackrock.com/es/profesionales/productos/228419/blackrock-euro-short-duration-bond-a2-eur-fund \"\n",
    "html = urllib.request.urlopen(url)\n",
    "soup = BeautifulSoup(html)\n",
    "tag = soup.find_all(\"span\",class_=\"header-nav-data\")\n",
    "tag = tag[0].contents[0]\n",
    "tag = float(re.findall(\"\\d+\\,\\d+\", tag)[0].replace(\",\",\".\"))\n",
    "total_euro_short = 22.45*tag\n",
    "total_euro_short"
   ]
  },
  {
   "cell_type": "markdown",
   "metadata": {},
   "source": [
    "# iShares Euro Govt Bd Idx (LU) A2 EUR"
   ]
  },
  {
   "cell_type": "code",
   "execution_count": 99,
   "metadata": {},
   "outputs": [
    {
     "data": {
      "text/plain": [
       "1129.9866"
      ]
     },
     "execution_count": 99,
     "metadata": {},
     "output_type": "execute_result"
    }
   ],
   "source": [
    "url = \"https://www.blackrock.com/es/profesionales/productos/243976/blackrock-euro-government-bond-index-a2-eur-fund\"\n",
    "html = urllib.request.urlopen(url)\n",
    "soup = BeautifulSoup(html)\n",
    "tag = soup.find_all(\"span\",class_=\"header-nav-data\")\n",
    "tag = tag[0].contents[0]\n",
    "tag = float(re.findall(\"\\d+\\,\\d+\", tag)[0].replace(\",\",\".\"))\n",
    "total_euro_govt = 8.34*tag\n",
    "total_euro_govt"
   ]
  },
  {
   "cell_type": "markdown",
   "metadata": {},
   "source": [
    "# iShares Em Mkts Govt Bd Idx (LU) A2 EURH"
   ]
  },
  {
   "cell_type": "code",
   "execution_count": 90,
   "metadata": {},
   "outputs": [
    {
     "data": {
      "text/plain": [
       "143.08"
      ]
     },
     "execution_count": 90,
     "metadata": {},
     "output_type": "execute_result"
    }
   ],
   "source": [
    "url = \"https://www.blackrock.com/es/profesionales/productos/254319/blackrock-em-mkt-government-bond-index-a2-usd-fund\"\n",
    "html = urllib.request.urlopen(url)\n",
    "soup = BeautifulSoup(html)\n",
    "tag = soup.find_all(\"span\",class_=\"header-nav-data\")\n",
    "tag = tag[0].contents[0]\n",
    "tag = float(re.findall(\"\\d+\\,\\d+\", tag)[0].replace(\",\",\".\"))\n",
    "total_em_mkts = 13.22*tag/cambio\n",
    "total_em_mkts"
   ]
  },
  {
   "cell_type": "markdown",
   "metadata": {},
   "source": [
    "# iShares Europe Equity Index (LU) A2 EUR"
   ]
  },
  {
   "cell_type": "code",
   "execution_count": 78,
   "metadata": {},
   "outputs": [
    {
     "data": {
      "text/plain": [
       "2036.7985"
      ]
     },
     "execution_count": 78,
     "metadata": {},
     "output_type": "execute_result"
    }
   ],
   "source": [
    "url = \"https://www.blackrock.com/es/profesionales/productos/243969/blackrock-europe-equity-index-a2-eur-fund\"\n",
    "html = urllib.request.urlopen(url)\n",
    "soup = BeautifulSoup(html)\n",
    "tag = soup.find_all(\"span\",class_=\"header-nav-data\")\n",
    "tag = tag[0].contents[0]\n",
    "tag = float(re.findall(\"\\d+\\,\\d+\", tag)[0].replace(\",\",\".\"))\n",
    "total_equity = 11.77*tag\n",
    "total_equity"
   ]
  },
  {
   "cell_type": "markdown",
   "metadata": {},
   "source": [
    "# iShares Dev Rl Ett Idx (IE) Instl Acc €"
   ]
  },
  {
   "cell_type": "code",
   "execution_count": 80,
   "metadata": {},
   "outputs": [
    {
     "data": {
      "text/plain": [
       "375.52680000000004"
      ]
     },
     "execution_count": 80,
     "metadata": {},
     "output_type": "execute_result"
    }
   ],
   "source": [
    "url = \"https://www.blackrock.com/es/profesionales/productos/237591/blackrock-blk-dvp-real-es-ind-sub-fd-inst-dist-eur-fund\"\n",
    "html = urllib.request.urlopen(url)\n",
    "soup = BeautifulSoup(html)\n",
    "tag = soup.find_all(\"span\",class_=\"header-nav-data\")\n",
    "tag = tag[0].contents[0]\n",
    "tag = float(re.findall(\"\\d+\\,\\d+\", tag)[0].replace(\",\",\".\"))\n",
    "total_dev = 31.32*tag\n",
    "total_dev"
   ]
  },
  {
   "cell_type": "markdown",
   "metadata": {},
   "source": [
    "# iShares North America Eq Idx (LU) A2 USD"
   ]
  },
  {
   "cell_type": "code",
   "execution_count": 91,
   "metadata": {},
   "outputs": [
    {
     "data": {
      "text/plain": [
       "1675.5502215657314"
      ]
     },
     "execution_count": 91,
     "metadata": {},
     "output_type": "execute_result"
    }
   ],
   "source": [
    "url = \"https://www.blackrock.com/americas-offshore/en/products/243985/blackrock-north-america-equity-index-a2-usd-fund\"\n",
    "html = urllib.request.urlopen(url)\n",
    "soup = BeautifulSoup(html)\n",
    "tag = soup.find_all(\"span\",class_=\"header-nav-data\")\n",
    "tag = tag[0].contents[0]\n",
    "tag = float(re.findall(\"\\d+\\.\\d+\", tag)[0].replace(\",\",\".\"))\n",
    "total_na_eq = tag*7.41/cambio\n",
    "total_na_eq"
   ]
  },
  {
   "cell_type": "markdown",
   "metadata": {},
   "source": [
    "# iShares Japan Equity Index (LU) A2 USD"
   ]
  },
  {
   "cell_type": "code",
   "execution_count": 94,
   "metadata": {},
   "outputs": [
    {
     "data": {
      "text/plain": [
       "996.0881339241754"
      ]
     },
     "execution_count": 94,
     "metadata": {},
     "output_type": "execute_result"
    }
   ],
   "source": [
    "url = \"https://www.blackrock.com/es/profesionales/productos/243982/blackrock-japan-equity-index-a2-usd-fund\"\n",
    "html = urllib.request.urlopen(url)\n",
    "soup = BeautifulSoup(html)\n",
    "tag = soup.find_all(\"span\",class_=\"header-nav-data\")\n",
    "tag = tag[0].contents[0]\n",
    "tag = float(re.findall(\"\\d+\\,\\d+\", tag)[0].replace(\",\",\".\"))\n",
    "total_jp_eq = 6.22*tag/cambio\n",
    "total_jp_eq"
   ]
  },
  {
   "cell_type": "markdown",
   "metadata": {},
   "source": [
    "# iShares Emerging Mkts Eq Idx (LU) A2 USD"
   ]
  },
  {
   "cell_type": "code",
   "execution_count": 97,
   "metadata": {},
   "outputs": [
    {
     "data": {
      "text/plain": [
       "1199.562941079928"
      ]
     },
     "execution_count": 97,
     "metadata": {},
     "output_type": "execute_result"
    }
   ],
   "source": [
    "url = \"https://www.blackrock.com/es/profesionales/productos/244127/blackrock-emerging-markts-equity-index-a2-usd-fund\"\n",
    "html = urllib.request.urlopen(url)\n",
    "soup = BeautifulSoup(html)\n",
    "tag = soup.find_all(\"span\",class_=\"header-nav-data\")\n",
    "tag = tag[0].contents[0]\n",
    "tag = float(re.findall(\"\\d+\\,\\d+\", tag)[0].replace(\",\",\".\"))\n",
    "total_em_eq = tag*9.77/cambio\n",
    "total_em_eq"
   ]
  },
  {
   "cell_type": "markdown",
   "metadata": {},
   "source": [
    "# Valor Total Fondos"
   ]
  },
  {
   "cell_type": "code",
   "execution_count": 108,
   "metadata": {},
   "outputs": [
    {
     "name": "stdout",
     "output_type": "stream",
     "text": [
      "El valor total de tus fondos es de 9322.22\n"
     ]
    }
   ],
   "source": [
    "valor_total = total_euro_short + total_euro_govt + total_em_mkts + total_equity + total_dev + total_na_eq + total_jp_eq + total_em_eq\n",
    "print(\"El valor total de tus fondos es de\",round(valor_total,2))"
   ]
  }
 ],
 "metadata": {
  "kernelspec": {
   "display_name": "Python 3",
   "language": "python",
   "name": "python3"
  },
  "language_info": {
   "codemirror_mode": {
    "name": "ipython",
    "version": 3
   },
   "file_extension": ".py",
   "mimetype": "text/x-python",
   "name": "python",
   "nbconvert_exporter": "python",
   "pygments_lexer": "ipython3",
   "version": "3.8.5"
  }
 },
 "nbformat": 4,
 "nbformat_minor": 4
}
